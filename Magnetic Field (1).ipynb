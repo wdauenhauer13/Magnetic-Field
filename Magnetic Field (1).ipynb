{
 "cells": [
  {
   "cell_type": "code",
   "execution_count": 3,
   "metadata": {},
   "outputs": [
    {
     "ename": "TypeError",
     "evalue": "expected x and w to have same length",
     "output_type": "error",
     "traceback": [
      "\u001b[0;31m---------------------------------------------------------------------------\u001b[0m",
      "\u001b[0;31mTypeError\u001b[0m                                 Traceback (most recent call last)",
      "\u001b[0;32m<ipython-input-3-7b34429f87a7>\u001b[0m in \u001b[0;36m<module>\u001b[0;34m()\u001b[0m\n\u001b[1;32m     34\u001b[0m \u001b[0;34m\u001b[0m\u001b[0m\n\u001b[1;32m     35\u001b[0m \u001b[0;31m#Find the intercept and slope, b and m, from Python's polynomial fitting function\u001b[0m\u001b[0;34m\u001b[0m\u001b[0;34m\u001b[0m\u001b[0m\n\u001b[0;32m---> 36\u001b[0;31m \u001b[0mb\u001b[0m\u001b[0;34m,\u001b[0m\u001b[0mm\u001b[0m\u001b[0;34m=\u001b[0m\u001b[0mnp\u001b[0m\u001b[0;34m.\u001b[0m\u001b[0mpolynomial\u001b[0m\u001b[0;34m.\u001b[0m\u001b[0mpolynomial\u001b[0m\u001b[0;34m.\u001b[0m\u001b[0mpolyfit\u001b[0m\u001b[0;34m(\u001b[0m\u001b[0mx\u001b[0m\u001b[0;34m,\u001b[0m\u001b[0my\u001b[0m\u001b[0;34m,\u001b[0m\u001b[0;36m1\u001b[0m\u001b[0;34m,\u001b[0m\u001b[0mw\u001b[0m\u001b[0;34m=\u001b[0m\u001b[0mdy\u001b[0m\u001b[0;34m)\u001b[0m\u001b[0;34m\u001b[0m\u001b[0m\n\u001b[0m\u001b[1;32m     37\u001b[0m \u001b[0;34m\u001b[0m\u001b[0m\n\u001b[1;32m     38\u001b[0m \u001b[0;31m#Write the equation for the best fit line based on the slope and intercept\u001b[0m\u001b[0;34m\u001b[0m\u001b[0;34m\u001b[0m\u001b[0m\n",
      "\u001b[0;32m~/anaconda3/lib/python3.6/site-packages/numpy/polynomial/polynomial.py\u001b[0m in \u001b[0;36mpolyfit\u001b[0;34m(x, y, deg, rcond, full, w)\u001b[0m\n\u001b[1;32m   1461\u001b[0m             \u001b[0;32mraise\u001b[0m \u001b[0mTypeError\u001b[0m\u001b[0;34m(\u001b[0m\u001b[0;34m\"expected 1D vector for w\"\u001b[0m\u001b[0;34m)\u001b[0m\u001b[0;34m\u001b[0m\u001b[0m\n\u001b[1;32m   1462\u001b[0m         \u001b[0;32mif\u001b[0m \u001b[0mlen\u001b[0m\u001b[0;34m(\u001b[0m\u001b[0mx\u001b[0m\u001b[0;34m)\u001b[0m \u001b[0;34m!=\u001b[0m \u001b[0mlen\u001b[0m\u001b[0;34m(\u001b[0m\u001b[0mw\u001b[0m\u001b[0;34m)\u001b[0m\u001b[0;34m:\u001b[0m\u001b[0;34m\u001b[0m\u001b[0m\n\u001b[0;32m-> 1463\u001b[0;31m             \u001b[0;32mraise\u001b[0m \u001b[0mTypeError\u001b[0m\u001b[0;34m(\u001b[0m\u001b[0;34m\"expected x and w to have same length\"\u001b[0m\u001b[0;34m)\u001b[0m\u001b[0;34m\u001b[0m\u001b[0m\n\u001b[0m\u001b[1;32m   1464\u001b[0m         \u001b[0;31m# apply weights. Don't use inplace operations as they\u001b[0m\u001b[0;34m\u001b[0m\u001b[0;34m\u001b[0m\u001b[0m\n\u001b[1;32m   1465\u001b[0m         \u001b[0;31m# can cause problems with NA.\u001b[0m\u001b[0;34m\u001b[0m\u001b[0;34m\u001b[0m\u001b[0m\n",
      "\u001b[0;31mTypeError\u001b[0m: expected x and w to have same length"
     ]
    }
   ],
   "source": [
    "#Physics 216\n",
    "#Plotting code to use the whole year!\n",
    "#Jaylene Naylor\n",
    "#September 2015, modified Sept 2017, August 2018\n",
    "#-------------------------------------------#\n",
    "%matplotlib inline\n",
    "#Import packages and libraries needed and give them shortcut names\n",
    "from __future__ import division\n",
    "import numpy as np\n",
    "import matplotlib.pyplot as plt\n",
    "\n",
    "#-------------------------------------------#\n",
    "#Data Section - Create Arrays for data. Perform necessary calculations\n",
    "#CHANGE THE VARIABLE NAMES and numbers to match your data\n",
    "amps = np.array([0,10,20.6,30.2,29.3,49.0,59.8,70.7,79.8,89.5,99.6,133.9]) #what are units?\n",
    "B_z = np.array([-312,-90.9,30.3,227,415,633,842,1069,1251,1451,1660,2340]) #what are units?\n",
    "\n",
    "\n",
    "#--------------------------------------------#\n",
    "#Create arrays for uncertainties\n",
    "#CHANGE THE VARIABLE NAME and numbers to match your data \n",
    "err_B_z = np.array([0.2001,0.2001,0.2001,0.2001,0.2001,0.2001,0.2001,0.2001,0.2001,0.2001,0.2001,])\n",
    "\n",
    "\n",
    "#--------------------------------------------#\n",
    "#Re-assign variables as x, y, dy so that the following code may remain generic\n",
    "\n",
    "x = amps  #this should be the array you want to plot on the x axis\n",
    "y = B_z\n",
    "dy = err_B_z  #this should be your error in y array\n",
    "\n",
    "#----------------------------------------------#\n",
    "#Don't need to change anything in this section!\n",
    " \n",
    "#Find the intercept and slope, b and m, from Python's polynomial fitting function\n",
    "b,m=np.polynomial.polynomial.polyfit(x,y,1,w=dy)\n",
    "\n",
    "#Write the equation for the best fit line based on the slope and intercept\n",
    "fit = b+m*x\n",
    "\n",
    "#Calculate the error in slope and intercept \n",
    "#def Delta(x, dy) is a function, and we will learn how to write our own at a later date. They are very useful!\n",
    "def Delta(x, dy):\n",
    "    D = (sum(1/dy**2))*(sum(x**2/dy**2))-(sum(x/dy**2))**2\n",
    "    return D\n",
    " \n",
    "D=Delta(x, dy)\n",
    " \n",
    "dm = np.sqrt(1/D*sum(1/dy**2)) #error in slope\n",
    "db = np.sqrt(1/D*sum(x**2/dy**2)) #error in intercept\n",
    "\n",
    "#Calculate the \"goodness of fit\" from the linear least squares fitting document\n",
    "def LLSFD2(x,y,dy):\n",
    "    N = sum(((y-b-m*x)/dy)**2)\n",
    "    return N\n",
    "                      \n",
    "N = LLSFD2(x,y,dy)\n",
    "\n",
    "#-----------------------------------------------------------------------#\n",
    "#Plot data on graph. Plot error bars and place values for slope, error in slope and goodness of fit on the plot using \"annotate\"\n",
    "plt.figure(figsize=(15,10))\n",
    " \n",
    "plt.plot(x, fit, color='green', linestyle='--')\n",
    "plt.scatter(x, y, color='blue', marker='o')\n",
    " \n",
    " \n",
    "#create labels  YOU NEED TO CHANGE THESE!!!\n",
    "plt.xlabel('I (milliamps)')\n",
    "plt.ylabel('B_z (milligauss)')\n",
    "plt.title('B_z vs Current')\n",
    " \n",
    "plt.errorbar(x, y, yerr=dy, xerr=None, fmt=\"none\") #don't need to plot x error bars\n",
    " \n",
    "plt.annotate('Slope  = {value:.{digits}E}'.format(value=m, digits=2),\n",
    "             (0.05, 0.9), xycoords='axes fraction')\n",
    " \n",
    "plt.annotate('Error in Slope  = {value:.{digits}E}'.format(value=dm, digits=1),\n",
    "             (0.05, 0.85), xycoords='axes fraction')\n",
    " \n",
    "plt.annotate('Goodness of fit = {value:.{digits}E}'.format(value=N, digits=2),\n",
    "             (0.05, 0.80), xycoords='axes fraction')\n",
    "\n",
    "plt.show()\n"
   ]
  },
  {
   "cell_type": "code",
   "execution_count": null,
   "metadata": {},
   "outputs": [],
   "source": []
  },
  {
   "cell_type": "code",
   "execution_count": null,
   "metadata": {},
   "outputs": [],
   "source": []
  },
  {
   "cell_type": "code",
   "execution_count": null,
   "metadata": {},
   "outputs": [],
   "source": []
  },
  {
   "cell_type": "code",
   "execution_count": null,
   "metadata": {},
   "outputs": [],
   "source": []
  }
 ],
 "metadata": {
  "kernelspec": {
   "display_name": "Python 3",
   "language": "python",
   "name": "python3"
  },
  "language_info": {
   "codemirror_mode": {
    "name": "ipython",
    "version": 3
   },
   "file_extension": ".py",
   "mimetype": "text/x-python",
   "name": "python",
   "nbconvert_exporter": "python",
   "pygments_lexer": "ipython3",
   "version": "3.6.5"
  }
 },
 "nbformat": 4,
 "nbformat_minor": 2
}
